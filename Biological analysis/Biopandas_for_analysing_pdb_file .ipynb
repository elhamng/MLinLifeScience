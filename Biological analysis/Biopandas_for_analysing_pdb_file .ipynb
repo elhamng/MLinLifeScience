{
 "cells": [
  {
   "cell_type": "code",
   "execution_count": 15,
   "metadata": {},
   "outputs": [],
   "source": [
    "import numpy as np # linear algebra\n",
    "import pandas as pd # data processing, CSV file I/O (e.g. pd.read_csv)\n",
    "import matplotlib.pyplot as plt"
   ]
  },
  {
   "cell_type": "code",
   "execution_count": 2,
   "metadata": {},
   "outputs": [],
   "source": [
    "import os\n",
    "for dirname, _, filenames in os.walk('/kaggle/input'):\n",
    "    for filename in filenames:\n",
    "        print(os.path.join(dirname, filename))\n"
   ]
  },
  {
   "cell_type": "markdown",
   "metadata": {},
   "source": [
    "BioPandas\n",
    "Now computational biologists can analyse the PDB(Protein Data Bank) file format in python. Working with molecular structures of biological macromolecules (from PDB and MOL2 files) in pandas DataFrames is what BioPandas is all about!"
   ]
  },
  {
   "cell_type": "code",
   "execution_count": 3,
   "metadata": {},
   "outputs": [
    {
     "name": "stdout",
     "output_type": "stream",
     "text": [
      "Collecting biopandas\n",
      "  Downloading biopandas-0.2.8-py2.py3-none-any.whl (264 kB)\n",
      "\u001b[K     |████████████████████████████████| 264 kB 3.2 MB/s eta 0:00:01\n",
      "\u001b[?25hRequirement already satisfied: setuptools in /Users/elham/opt/anaconda3/lib/python3.8/site-packages (from biopandas) (50.3.1.post20201107)\n",
      "Requirement already satisfied: pandas>=0.24.2 in /Users/elham/opt/anaconda3/lib/python3.8/site-packages (from biopandas) (1.1.3)\n",
      "Requirement already satisfied: numpy>=1.16.2 in /Users/elham/opt/anaconda3/lib/python3.8/site-packages (from biopandas) (1.19.2)\n",
      "Requirement already satisfied: python-dateutil>=2.7.3 in /Users/elham/opt/anaconda3/lib/python3.8/site-packages (from pandas>=0.24.2->biopandas) (2.8.1)\n",
      "Requirement already satisfied: pytz>=2017.2 in /Users/elham/opt/anaconda3/lib/python3.8/site-packages (from pandas>=0.24.2->biopandas) (2020.1)\n",
      "Requirement already satisfied: six>=1.5 in /Users/elham/opt/anaconda3/lib/python3.8/site-packages (from python-dateutil>=2.7.3->pandas>=0.24.2->biopandas) (1.15.0)\n",
      "Installing collected packages: biopandas\n",
      "Successfully installed biopandas-0.2.8\n",
      "Note: you may need to restart the kernel to use updated packages.\n"
     ]
    }
   ],
   "source": [
    "%pip install biopandas"
   ]
  },
  {
   "cell_type": "code",
   "execution_count": 4,
   "metadata": {},
   "outputs": [],
   "source": [
    "from biopandas.pdb import PandasPdb"
   ]
  },
  {
   "cell_type": "markdown",
   "metadata": {},
   "source": [
    "PDB file format\n",
    "\n",
    "In the PDB data file format for macromolecular models, each atom is designated either ATOM or HETATM (which stands for hetero atom).\n",
    "\n",
    "ATOM is reserved for atoms in standard residues of protein, DNA or RNA.\n",
    "\n",
    "HETATM is applied to non-standard residues of protein, DNA or RNA, as well as atoms in other kinds of groups, such as carbohydrates, substrates, ligands, solvent, and metal ions."
   ]
  },
  {
   "cell_type": "code",
   "execution_count": 6,
   "metadata": {},
   "outputs": [],
   "source": [
    "ppdb_df =  PandasPdb().read_pdb('6lu7.pdb')"
   ]
  },
  {
   "cell_type": "markdown",
   "metadata": {},
   "source": [
    "Analysis of COVID-19 virus"
   ]
  },
  {
   "cell_type": "code",
   "execution_count": 7,
   "metadata": {},
   "outputs": [
    {
     "data": {
      "text/plain": [
       "dict"
      ]
     },
     "execution_count": 7,
     "metadata": {},
     "output_type": "execute_result"
    }
   ],
   "source": [
    "type(ppdb_df.df)"
   ]
  },
  {
   "cell_type": "code",
   "execution_count": 8,
   "metadata": {},
   "outputs": [
    {
     "data": {
      "text/plain": [
       "dict_keys(['ATOM', 'HETATM', 'ANISOU', 'OTHERS'])"
      ]
     },
     "execution_count": 8,
     "metadata": {},
     "output_type": "execute_result"
    }
   ],
   "source": [
    "ppdb_df.df.keys()"
   ]
  },
  {
   "cell_type": "code",
   "execution_count": 9,
   "metadata": {},
   "outputs": [
    {
     "data": {
      "text/html": [
       "<div>\n",
       "<style scoped>\n",
       "    .dataframe tbody tr th:only-of-type {\n",
       "        vertical-align: middle;\n",
       "    }\n",
       "\n",
       "    .dataframe tbody tr th {\n",
       "        vertical-align: top;\n",
       "    }\n",
       "\n",
       "    .dataframe thead th {\n",
       "        text-align: right;\n",
       "    }\n",
       "</style>\n",
       "<table border=\"1\" class=\"dataframe\">\n",
       "  <thead>\n",
       "    <tr style=\"text-align: right;\">\n",
       "      <th></th>\n",
       "      <th>record_name</th>\n",
       "      <th>atom_number</th>\n",
       "      <th>blank_1</th>\n",
       "      <th>atom_name</th>\n",
       "      <th>alt_loc</th>\n",
       "      <th>residue_name</th>\n",
       "      <th>blank_2</th>\n",
       "      <th>chain_id</th>\n",
       "      <th>residue_number</th>\n",
       "      <th>insertion</th>\n",
       "      <th>...</th>\n",
       "      <th>x_coord</th>\n",
       "      <th>y_coord</th>\n",
       "      <th>z_coord</th>\n",
       "      <th>occupancy</th>\n",
       "      <th>b_factor</th>\n",
       "      <th>blank_4</th>\n",
       "      <th>segment_id</th>\n",
       "      <th>element_symbol</th>\n",
       "      <th>charge</th>\n",
       "      <th>line_idx</th>\n",
       "    </tr>\n",
       "  </thead>\n",
       "  <tbody>\n",
       "    <tr>\n",
       "      <th>0</th>\n",
       "      <td>ATOM</td>\n",
       "      <td>1</td>\n",
       "      <td></td>\n",
       "      <td>N</td>\n",
       "      <td></td>\n",
       "      <td>SER</td>\n",
       "      <td></td>\n",
       "      <td>A</td>\n",
       "      <td>1</td>\n",
       "      <td></td>\n",
       "      <td>...</td>\n",
       "      <td>-32.073</td>\n",
       "      <td>9.085</td>\n",
       "      <td>33.695</td>\n",
       "      <td>1.0</td>\n",
       "      <td>38.90</td>\n",
       "      <td></td>\n",
       "      <td></td>\n",
       "      <td>N</td>\n",
       "      <td>NaN</td>\n",
       "      <td>424</td>\n",
       "    </tr>\n",
       "    <tr>\n",
       "      <th>1</th>\n",
       "      <td>ATOM</td>\n",
       "      <td>2</td>\n",
       "      <td></td>\n",
       "      <td>CA</td>\n",
       "      <td></td>\n",
       "      <td>SER</td>\n",
       "      <td></td>\n",
       "      <td>A</td>\n",
       "      <td>1</td>\n",
       "      <td></td>\n",
       "      <td>...</td>\n",
       "      <td>-32.156</td>\n",
       "      <td>8.073</td>\n",
       "      <td>34.741</td>\n",
       "      <td>1.0</td>\n",
       "      <td>37.44</td>\n",
       "      <td></td>\n",
       "      <td></td>\n",
       "      <td>C</td>\n",
       "      <td>NaN</td>\n",
       "      <td>425</td>\n",
       "    </tr>\n",
       "    <tr>\n",
       "      <th>2</th>\n",
       "      <td>ATOM</td>\n",
       "      <td>3</td>\n",
       "      <td></td>\n",
       "      <td>C</td>\n",
       "      <td></td>\n",
       "      <td>SER</td>\n",
       "      <td></td>\n",
       "      <td>A</td>\n",
       "      <td>1</td>\n",
       "      <td></td>\n",
       "      <td>...</td>\n",
       "      <td>-30.857</td>\n",
       "      <td>8.000</td>\n",
       "      <td>35.536</td>\n",
       "      <td>1.0</td>\n",
       "      <td>34.96</td>\n",
       "      <td></td>\n",
       "      <td></td>\n",
       "      <td>C</td>\n",
       "      <td>NaN</td>\n",
       "      <td>426</td>\n",
       "    </tr>\n",
       "    <tr>\n",
       "      <th>3</th>\n",
       "      <td>ATOM</td>\n",
       "      <td>4</td>\n",
       "      <td></td>\n",
       "      <td>O</td>\n",
       "      <td></td>\n",
       "      <td>SER</td>\n",
       "      <td></td>\n",
       "      <td>A</td>\n",
       "      <td>1</td>\n",
       "      <td></td>\n",
       "      <td>...</td>\n",
       "      <td>-30.047</td>\n",
       "      <td>8.926</td>\n",
       "      <td>35.507</td>\n",
       "      <td>1.0</td>\n",
       "      <td>33.29</td>\n",
       "      <td></td>\n",
       "      <td></td>\n",
       "      <td>O</td>\n",
       "      <td>NaN</td>\n",
       "      <td>427</td>\n",
       "    </tr>\n",
       "    <tr>\n",
       "      <th>4</th>\n",
       "      <td>ATOM</td>\n",
       "      <td>5</td>\n",
       "      <td></td>\n",
       "      <td>CB</td>\n",
       "      <td></td>\n",
       "      <td>SER</td>\n",
       "      <td></td>\n",
       "      <td>A</td>\n",
       "      <td>1</td>\n",
       "      <td></td>\n",
       "      <td>...</td>\n",
       "      <td>-32.483</td>\n",
       "      <td>6.704</td>\n",
       "      <td>34.140</td>\n",
       "      <td>1.0</td>\n",
       "      <td>44.07</td>\n",
       "      <td></td>\n",
       "      <td></td>\n",
       "      <td>C</td>\n",
       "      <td>NaN</td>\n",
       "      <td>428</td>\n",
       "    </tr>\n",
       "  </tbody>\n",
       "</table>\n",
       "<p>5 rows × 21 columns</p>\n",
       "</div>"
      ],
      "text/plain": [
       "  record_name  atom_number blank_1 atom_name alt_loc residue_name blank_2  \\\n",
       "0        ATOM            1                 N                  SER           \n",
       "1        ATOM            2                CA                  SER           \n",
       "2        ATOM            3                 C                  SER           \n",
       "3        ATOM            4                 O                  SER           \n",
       "4        ATOM            5                CB                  SER           \n",
       "\n",
       "  chain_id  residue_number insertion  ... x_coord  y_coord  z_coord  \\\n",
       "0        A               1            ... -32.073    9.085   33.695   \n",
       "1        A               1            ... -32.156    8.073   34.741   \n",
       "2        A               1            ... -30.857    8.000   35.536   \n",
       "3        A               1            ... -30.047    8.926   35.507   \n",
       "4        A               1            ... -32.483    6.704   34.140   \n",
       "\n",
       "   occupancy  b_factor  blank_4 segment_id element_symbol charge  line_idx  \n",
       "0        1.0     38.90                                  N    NaN       424  \n",
       "1        1.0     37.44                                  C    NaN       425  \n",
       "2        1.0     34.96                                  C    NaN       426  \n",
       "3        1.0     33.29                                  O    NaN       427  \n",
       "4        1.0     44.07                                  C    NaN       428  \n",
       "\n",
       "[5 rows x 21 columns]"
      ]
     },
     "execution_count": 9,
     "metadata": {},
     "output_type": "execute_result"
    }
   ],
   "source": [
    "atom_df = ppdb_df.df['ATOM']\n",
    "atom_df.head()"
   ]
  },
  {
   "cell_type": "code",
   "execution_count": 13,
   "metadata": {},
   "outputs": [
    {
     "data": {
      "text/html": [
       "<div>\n",
       "<style scoped>\n",
       "    .dataframe tbody tr th:only-of-type {\n",
       "        vertical-align: middle;\n",
       "    }\n",
       "\n",
       "    .dataframe tbody tr th {\n",
       "        vertical-align: top;\n",
       "    }\n",
       "\n",
       "    .dataframe thead th {\n",
       "        text-align: right;\n",
       "    }\n",
       "</style>\n",
       "<table border=\"1\" class=\"dataframe\">\n",
       "  <thead>\n",
       "    <tr style=\"text-align: right;\">\n",
       "      <th></th>\n",
       "      <th>record_name</th>\n",
       "      <th>atom_number</th>\n",
       "      <th>blank_1</th>\n",
       "      <th>atom_name</th>\n",
       "      <th>alt_loc</th>\n",
       "      <th>residue_name</th>\n",
       "      <th>blank_2</th>\n",
       "      <th>chain_id</th>\n",
       "      <th>residue_number</th>\n",
       "      <th>insertion</th>\n",
       "      <th>...</th>\n",
       "      <th>x_coord</th>\n",
       "      <th>y_coord</th>\n",
       "      <th>z_coord</th>\n",
       "      <th>occupancy</th>\n",
       "      <th>b_factor</th>\n",
       "      <th>blank_4</th>\n",
       "      <th>segment_id</th>\n",
       "      <th>element_symbol</th>\n",
       "      <th>charge</th>\n",
       "      <th>line_idx</th>\n",
       "    </tr>\n",
       "  </thead>\n",
       "  <tbody>\n",
       "    <tr>\n",
       "      <th>0</th>\n",
       "      <td>HETATM</td>\n",
       "      <td>2369</td>\n",
       "      <td></td>\n",
       "      <td>C4</td>\n",
       "      <td></td>\n",
       "      <td>02J</td>\n",
       "      <td></td>\n",
       "      <td>C</td>\n",
       "      <td>1</td>\n",
       "      <td></td>\n",
       "      <td>...</td>\n",
       "      <td>-10.425</td>\n",
       "      <td>3.420</td>\n",
       "      <td>72.447</td>\n",
       "      <td>1.0</td>\n",
       "      <td>54.38</td>\n",
       "      <td></td>\n",
       "      <td></td>\n",
       "      <td>C</td>\n",
       "      <td>NaN</td>\n",
       "      <td>2792</td>\n",
       "    </tr>\n",
       "    <tr>\n",
       "      <th>1</th>\n",
       "      <td>HETATM</td>\n",
       "      <td>2370</td>\n",
       "      <td></td>\n",
       "      <td>C5</td>\n",
       "      <td></td>\n",
       "      <td>02J</td>\n",
       "      <td></td>\n",
       "      <td>C</td>\n",
       "      <td>1</td>\n",
       "      <td></td>\n",
       "      <td>...</td>\n",
       "      <td>-9.924</td>\n",
       "      <td>2.857</td>\n",
       "      <td>73.642</td>\n",
       "      <td>1.0</td>\n",
       "      <td>63.03</td>\n",
       "      <td></td>\n",
       "      <td></td>\n",
       "      <td>C</td>\n",
       "      <td>NaN</td>\n",
       "      <td>2793</td>\n",
       "    </tr>\n",
       "    <tr>\n",
       "      <th>2</th>\n",
       "      <td>HETATM</td>\n",
       "      <td>2371</td>\n",
       "      <td></td>\n",
       "      <td>C6</td>\n",
       "      <td></td>\n",
       "      <td>02J</td>\n",
       "      <td></td>\n",
       "      <td>C</td>\n",
       "      <td>1</td>\n",
       "      <td></td>\n",
       "      <td>...</td>\n",
       "      <td>-9.345</td>\n",
       "      <td>1.458</td>\n",
       "      <td>73.806</td>\n",
       "      <td>1.0</td>\n",
       "      <td>64.36</td>\n",
       "      <td></td>\n",
       "      <td></td>\n",
       "      <td>C</td>\n",
       "      <td>NaN</td>\n",
       "      <td>2794</td>\n",
       "    </tr>\n",
       "    <tr>\n",
       "      <th>3</th>\n",
       "      <td>HETATM</td>\n",
       "      <td>2372</td>\n",
       "      <td></td>\n",
       "      <td>O1</td>\n",
       "      <td></td>\n",
       "      <td>02J</td>\n",
       "      <td></td>\n",
       "      <td>C</td>\n",
       "      <td>1</td>\n",
       "      <td></td>\n",
       "      <td>...</td>\n",
       "      <td>-10.048</td>\n",
       "      <td>3.755</td>\n",
       "      <td>74.575</td>\n",
       "      <td>1.0</td>\n",
       "      <td>63.01</td>\n",
       "      <td></td>\n",
       "      <td></td>\n",
       "      <td>O</td>\n",
       "      <td>NaN</td>\n",
       "      <td>2795</td>\n",
       "    </tr>\n",
       "    <tr>\n",
       "      <th>4</th>\n",
       "      <td>HETATM</td>\n",
       "      <td>2373</td>\n",
       "      <td></td>\n",
       "      <td>N2</td>\n",
       "      <td></td>\n",
       "      <td>02J</td>\n",
       "      <td></td>\n",
       "      <td>C</td>\n",
       "      <td>1</td>\n",
       "      <td></td>\n",
       "      <td>...</td>\n",
       "      <td>-10.585</td>\n",
       "      <td>4.861</td>\n",
       "      <td>74.114</td>\n",
       "      <td>1.0</td>\n",
       "      <td>56.79</td>\n",
       "      <td></td>\n",
       "      <td></td>\n",
       "      <td>N</td>\n",
       "      <td>NaN</td>\n",
       "      <td>2796</td>\n",
       "    </tr>\n",
       "  </tbody>\n",
       "</table>\n",
       "<p>5 rows × 21 columns</p>\n",
       "</div>"
      ],
      "text/plain": [
       "  record_name  atom_number blank_1 atom_name alt_loc residue_name blank_2  \\\n",
       "0      HETATM         2369                C4                  02J           \n",
       "1      HETATM         2370                C5                  02J           \n",
       "2      HETATM         2371                C6                  02J           \n",
       "3      HETATM         2372                O1                  02J           \n",
       "4      HETATM         2373                N2                  02J           \n",
       "\n",
       "  chain_id  residue_number insertion  ... x_coord  y_coord  z_coord  \\\n",
       "0        C               1            ... -10.425    3.420   72.447   \n",
       "1        C               1            ...  -9.924    2.857   73.642   \n",
       "2        C               1            ...  -9.345    1.458   73.806   \n",
       "3        C               1            ... -10.048    3.755   74.575   \n",
       "4        C               1            ... -10.585    4.861   74.114   \n",
       "\n",
       "   occupancy  b_factor  blank_4 segment_id element_symbol charge  line_idx  \n",
       "0        1.0     54.38                                  C    NaN      2792  \n",
       "1        1.0     63.03                                  C    NaN      2793  \n",
       "2        1.0     64.36                                  C    NaN      2794  \n",
       "3        1.0     63.01                                  O    NaN      2795  \n",
       "4        1.0     56.79                                  N    NaN      2796  \n",
       "\n",
       "[5 rows x 21 columns]"
      ]
     },
     "execution_count": 13,
     "metadata": {},
     "output_type": "execute_result"
    }
   ],
   "source": [
    "het_df = ppdb_df.df['HETATM']\n",
    "het_df.head()"
   ]
  },
  {
   "cell_type": "code",
   "execution_count": 11,
   "metadata": {},
   "outputs": [
    {
     "data": {
      "text/html": [
       "<div>\n",
       "<style scoped>\n",
       "    .dataframe tbody tr th:only-of-type {\n",
       "        vertical-align: middle;\n",
       "    }\n",
       "\n",
       "    .dataframe tbody tr th {\n",
       "        vertical-align: top;\n",
       "    }\n",
       "\n",
       "    .dataframe thead th {\n",
       "        text-align: right;\n",
       "    }\n",
       "</style>\n",
       "<table border=\"1\" class=\"dataframe\">\n",
       "  <thead>\n",
       "    <tr style=\"text-align: right;\">\n",
       "      <th></th>\n",
       "      <th>record_name</th>\n",
       "      <th>atom_number</th>\n",
       "      <th>blank_1</th>\n",
       "      <th>atom_name</th>\n",
       "      <th>alt_loc</th>\n",
       "      <th>residue_name</th>\n",
       "      <th>blank_2</th>\n",
       "      <th>chain_id</th>\n",
       "      <th>residue_number</th>\n",
       "      <th>insertion</th>\n",
       "      <th>...</th>\n",
       "      <th>U(1,1)</th>\n",
       "      <th>U(2,2)</th>\n",
       "      <th>U(3,3)</th>\n",
       "      <th>U(1,2)</th>\n",
       "      <th>U(1,3)</th>\n",
       "      <th>U(2,3)</th>\n",
       "      <th>blank_4</th>\n",
       "      <th>element_symbol</th>\n",
       "      <th>charge</th>\n",
       "      <th>line_idx</th>\n",
       "    </tr>\n",
       "  </thead>\n",
       "  <tbody>\n",
       "  </tbody>\n",
       "</table>\n",
       "<p>0 rows × 21 columns</p>\n",
       "</div>"
      ],
      "text/plain": [
       "Empty DataFrame\n",
       "Columns: [record_name, atom_number, blank_1, atom_name, alt_loc, residue_name, blank_2, chain_id, residue_number, insertion, blank_3, U(1,1), U(2,2), U(3,3), U(1,2), U(1,3), U(2,3), blank_4, element_symbol, charge, line_idx]\n",
       "Index: []\n",
       "\n",
       "[0 rows x 21 columns]"
      ]
     },
     "execution_count": 11,
     "metadata": {},
     "output_type": "execute_result"
    }
   ],
   "source": [
    "ani_df = ppdb_df.df['ANISOU']\n",
    "ani_df.head()"
   ]
  },
  {
   "cell_type": "code",
   "execution_count": 14,
   "metadata": {},
   "outputs": [
    {
     "data": {
      "text/html": [
       "<div>\n",
       "<style scoped>\n",
       "    .dataframe tbody tr th:only-of-type {\n",
       "        vertical-align: middle;\n",
       "    }\n",
       "\n",
       "    .dataframe tbody tr th {\n",
       "        vertical-align: top;\n",
       "    }\n",
       "\n",
       "    .dataframe thead th {\n",
       "        text-align: right;\n",
       "    }\n",
       "</style>\n",
       "<table border=\"1\" class=\"dataframe\">\n",
       "  <thead>\n",
       "    <tr style=\"text-align: right;\">\n",
       "      <th></th>\n",
       "      <th>record_name</th>\n",
       "      <th>entry</th>\n",
       "      <th>line_idx</th>\n",
       "    </tr>\n",
       "  </thead>\n",
       "  <tbody>\n",
       "    <tr>\n",
       "      <th>0</th>\n",
       "      <td>HEADER</td>\n",
       "      <td>VIRAL PROTEIN                           26...</td>\n",
       "      <td>0</td>\n",
       "    </tr>\n",
       "    <tr>\n",
       "      <th>1</th>\n",
       "      <td>TITLE</td>\n",
       "      <td>THE CRYSTAL STRUCTURE OF COVID-19 MAIN PRO...</td>\n",
       "      <td>1</td>\n",
       "    </tr>\n",
       "    <tr>\n",
       "      <th>2</th>\n",
       "      <td>TITLE</td>\n",
       "      <td>2 INHIBITOR N3</td>\n",
       "      <td>2</td>\n",
       "    </tr>\n",
       "    <tr>\n",
       "      <th>3</th>\n",
       "      <td>COMPND</td>\n",
       "      <td>MOL_ID: 1;</td>\n",
       "      <td>3</td>\n",
       "    </tr>\n",
       "    <tr>\n",
       "      <th>4</th>\n",
       "      <td>COMPND</td>\n",
       "      <td>2 MOLECULE: MAIN PROTEASE;</td>\n",
       "      <td>4</td>\n",
       "    </tr>\n",
       "  </tbody>\n",
       "</table>\n",
       "</div>"
      ],
      "text/plain": [
       "  record_name                                              entry  line_idx\n",
       "0      HEADER      VIRAL PROTEIN                           26...         0\n",
       "1       TITLE      THE CRYSTAL STRUCTURE OF COVID-19 MAIN PRO...         1\n",
       "2       TITLE                                     2 INHIBITOR N3         2\n",
       "3      COMPND                                         MOL_ID: 1;         3\n",
       "4      COMPND                         2 MOLECULE: MAIN PROTEASE;         4"
      ]
     },
     "execution_count": 14,
     "metadata": {},
     "output_type": "execute_result"
    }
   ],
   "source": [
    "ani_df = ppdb_df.df['OTHERS']\n",
    "ani_df.head()"
   ]
  },
  {
   "cell_type": "markdown",
   "metadata": {},
   "source": [
    "Visualize the b_factor\n",
    "what is b_factor?\n",
    "\n",
    "The B-factor describes the displacement of the atomic positions from an average (mean) value (mean-square displacement).\n",
    "\n",
    "The core of the molecule usually has low B-factors, due to tight packing of the side chains (enzyme active sites are usually located there). The values of the B-factors are normally between 15 to 30 (sq. Angstroms), but often much higher than 30 for flexible regions."
   ]
  },
  {
   "cell_type": "code",
   "execution_count": 16,
   "metadata": {},
   "outputs": [
    {
     "data": {
      "text/plain": [
       "Text(0.5, 0, 'B-Factor')"
      ]
     },
     "execution_count": 16,
     "metadata": {},
     "output_type": "execute_result"
    },
    {
     "data": {
      "image/png": "[encoded data removed]",
      "text/plain": [
       "<Figure size 432x288 with 1 Axes>"
      ]
     },
     "metadata": {
      "needs_background": "light"
     },
     "output_type": "display_data"
    }
   ],
   "source": [
    "atom_df['b_factor'].plot(kind='hist')\n",
    "plt.title('B-Factor of human coronavirus')\n",
    "plt.xlabel('B-Factor')"
   ]
  },
  {
   "cell_type": "markdown",
   "metadata": {},
   "source": [
    "It is observed that COVID-19 has high b_factor which means it is not tightly packed"
   ]
  },
  {
   "cell_type": "code",
   "execution_count": 17,
   "metadata": {},
   "outputs": [
    {
     "data": {
      "text/plain": [
       "array(['N', 'C', 'O', 'S'], dtype=object)"
      ]
     },
     "execution_count": 17,
     "metadata": {},
     "output_type": "execute_result"
    }
   ],
   "source": [
    "atom_df.element_symbol.unique()"
   ]
  },
  {
   "cell_type": "code",
   "execution_count": 18,
   "metadata": {},
   "outputs": [
    {
     "data": {
      "text/plain": [
       "Text(0.5, 0, 'Element symbol')"
      ]
     },
     "execution_count": 18,
     "metadata": {},
     "output_type": "execute_result"
    },
    {
     "data": {
      "image/png": "[encoded data removed]",
      "text/plain": [
       "<Figure size 432x288 with 1 Axes>"
      ]
     },
     "metadata": {
      "needs_background": "light"
     },
     "output_type": "display_data"
    }
   ],
   "source": [
    "atom_df['element_symbol'].value_counts().plot(kind='bar')\n",
    "plt.title('Element symbol distribution')\n",
    "plt.ylabel('Count')\n",
    "plt.xlabel('Element symbol')"
   ]
  },
  {
   "cell_type": "code",
   "execution_count": 19,
   "metadata": {},
   "outputs": [
    {
     "data": {
      "text/plain": [
       "Text(0.5, 0, 'atom_name symbol')"
      ]
     },
     "execution_count": 19,
     "metadata": {},
     "output_type": "execute_result"
    },
    {
     "data": {
      "image/png": "[encoded data removed]",
      "text/plain": [
       "<Figure size 720x576 with 1 Axes>"
      ]
     },
     "metadata": {
      "needs_background": "light"
     },
     "output_type": "display_data"
    }
   ],
   "source": [
    "atom_df['atom_name'].value_counts().plot(kind='bar', figsize=(10,8))\n",
    "plt.title('Atom name distribution')\n",
    "plt.ylabel('Count')\n",
    "plt.xlabel('atom_name symbol')"
   ]
  },
  {
   "cell_type": "code",
   "execution_count": 20,
   "metadata": {},
   "outputs": [],
   "source": [
    "catom_df = ppdb_df.df['ATOM']\n",
    "chtm_df = ppdb_df.df['HETATM']"
   ]
  },
  {
   "cell_type": "code",
   "execution_count": null,
   "metadata": {},
   "outputs": [],
   "source": []
  }
 ],
 "metadata": {
  "kernelspec": {
   "display_name": "Python 3",
   "language": "python",
   "name": "python3"
  },
  "language_info": {
   "codemirror_mode": {
    "name": "ipython",
    "version": 3
   },
   "file_extension": ".py",
   "mimetype": "text/x-python",
   "name": "python",
   "nbconvert_exporter": "python",
   "pygments_lexer": "ipython3",
   "version": "3.8.3"
  }
 },
 "nbformat": 4,
 "nbformat_minor": 4
}
